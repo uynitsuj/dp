{
 "cells": [
  {
   "cell_type": "code",
   "execution_count": 1,
   "metadata": {},
   "outputs": [
    {
     "name": "stderr",
     "output_type": "stream",
     "text": [
      "WARNING:root:Failed to import geometry msgs in rigid_transformations.py.\n",
      "WARNING:root:Failed to import ros dependencies in rigid_transforms.py\n",
      "WARNING:root:autolab_core not installed as catkin package, RigidTransform ros methods will be unavailable\n"
     ]
    }
   ],
   "source": [
    "import h5py \n",
    "import numpy as np \n",
    "from autolab_core import RigidTransform\n",
    "from scipy.spatial.transform import Rotation as R"
   ]
  },
  {
   "cell_type": "code",
   "execution_count": 2,
   "metadata": {},
   "outputs": [],
   "source": [
    "file = h5py.File(\"/home/mfu/dataset/dp_gs/pick_tiger_241123/robot_trajectory_2024_11_23_19_24_18.h5\")"
   ]
  },
  {
   "cell_type": "code",
   "execution_count": 3,
   "metadata": {},
   "outputs": [],
   "source": [
    "# action = file[\"action/cartesian_pose\"][:, :7]\n",
    "# proprio = file[\"state/cartesian/cartesian_pose\"][:, :7]\n",
    "\n",
    "action = file[\"state/cartesian/cartesian_pose\"][16:, 7:]\n",
    "proprio = file[\"state/cartesian/cartesian_pose\"][:-16, 7:]"
   ]
  },
  {
   "cell_type": "code",
   "execution_count": 4,
   "metadata": {},
   "outputs": [],
   "source": [
    "def wxyz_xyz2rt(wxyz_xyz):\n",
    "    wxyz = wxyz_xyz[:4]\n",
    "    xyz = wxyz_xyz[4:]\n",
    "    rot = R.from_quat(wxyz, scalar_first=True)\n",
    "    return RigidTransform(rot.as_matrix(), xyz, from_frame='gripper', to_frame='world')"
   ]
  },
  {
   "cell_type": "code",
   "execution_count": 5,
   "metadata": {},
   "outputs": [],
   "source": [
    "action = [wxyz_xyz2rt(a) for a in action]\n",
    "proprio = [wxyz_xyz2rt(p) for p in proprio]"
   ]
  },
  {
   "cell_type": "code",
   "execution_count": 6,
   "metadata": {},
   "outputs": [
    {
     "name": "stdout",
     "output_type": "stream",
     "text": [
      "world world\n",
      "[-4.54347369e-02 -8.83773183e-01 -9.52171430e-05] [0.06379791 0.49193136 0.87625758]\n"
     ]
    }
   ],
   "source": [
    "# calculate delta in world frame \n",
    "delta = []\n",
    "for i in range(len(action)):\n",
    "    delta.append(action[i] * (proprio[i].inverse()))\n",
    "print(delta[0].from_frame, delta[0].to_frame)\n",
    "delta_trans = np.stack([d.translation for d in delta])\n",
    "min_delta, max_delta = delta_trans.min(0), delta_trans.max(0)\n",
    "print(min_delta, max_delta)"
   ]
  },
  {
   "cell_type": "code",
   "execution_count": 7,
   "metadata": {},
   "outputs": [
    {
     "name": "stdout",
     "output_type": "stream",
     "text": [
      "gripper gripper\n",
      "[-0.08520899 -0.27982753 -0.38598569] [1.15306834e-01 3.75039294e-01 6.20057240e-05]\n"
     ]
    }
   ],
   "source": [
    "# calculate delta in gripper frame \n",
    "delta = []\n",
    "for i in range(len(action)):\n",
    "    delta.append(proprio[i].inverse() * action[i])\n",
    "print(delta[0].from_frame, delta[0].to_frame)\n",
    "delta_trans = np.stack([d.translation for d in delta])\n",
    "min_delta, max_delta = delta_trans.min(0), delta_trans.max(0)\n",
    "print(min_delta, max_delta)"
   ]
  },
  {
   "cell_type": "code",
   "execution_count": null,
   "metadata": {},
   "outputs": [],
   "source": []
  }
 ],
 "metadata": {
  "kernelspec": {
   "display_name": "dp",
   "language": "python",
   "name": "python3"
  },
  "language_info": {
   "codemirror_mode": {
    "name": "ipython",
    "version": 3
   },
   "file_extension": ".py",
   "mimetype": "text/x-python",
   "name": "python",
   "nbconvert_exporter": "python",
   "pygments_lexer": "ipython3",
   "version": "3.10.15"
  }
 },
 "nbformat": 4,
 "nbformat_minor": 2
}
